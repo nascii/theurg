{
 "cells": [
  {
   "cell_type": "code",
   "execution_count": 1,
   "metadata": {
    "collapsed": false
   },
   "outputs": [],
   "source": [
    "import sys\n",
    "sys.path.append('..')\n",
    "\n",
    "from helpers.helpers import load_matches_df\n",
    "from preprocess.features import get_heroes_dummies\n",
    "from preprocess.features import HERO_COLUMNS\n",
    "\n",
    "matches = load_matches_df()"
   ]
  },
  {
   "cell_type": "code",
   "execution_count": 2,
   "metadata": {
    "collapsed": false
   },
   "outputs": [],
   "source": [
    "import pandas as pd\n",
    "\n",
    "columns = ['match_id', 'radiant_win'] + HERO_COLUMNS\n",
    "df = matches[columns].set_index('match_id')\n",
    "df.dropna(inplace=True)\n",
    "\n",
    "radiant_heroes, dire_heroes = get_heroes_dummies(df)\n",
    "\n",
    "df = pd.concat([df, radiant_heroes, dire_heroes], axis=1, join_axes=[df.index])\n",
    "df.drop(HERO_COLUMNS, axis=1, inplace=True)"
   ]
  },
  {
   "cell_type": "code",
   "execution_count": 9,
   "metadata": {
    "collapsed": false
   },
   "outputs": [
    {
     "name": "stdout",
     "output_type": "stream",
     "text": [
      "{'penalty': 'l1', 'C': 0.1}\n",
      "0.594369272505\n"
     ]
    }
   ],
   "source": [
    "from sklearn.linear_model import LogisticRegression\n",
    "from sklearn.grid_search import GridSearchCV\n",
    "from sklearn.cross_validation import cross_val_score, KFold\n",
    "from sklearn.preprocessing import scale\n",
    "\n",
    "y = df['radiant_win']\n",
    "X = scale(df.drop(['radiant_win'], axis=1))\n",
    "\n",
    "cv = KFold(len(X), shuffle=True, n_folds=5, random_state=42)\n",
    "grid = {'C': [0.01, 0.1, 1, 10], 'penalty': ['l1', 'l2']}\n",
    "clf = LogisticRegression(random_state=42)\n",
    "model = GridSearchCV(clf, grid, cv=cv)\n",
    "model.fit(X, y)\n",
    "\n",
    "print(model.best_params_)\n",
    "print(model.best_score_)"
   ]
  },
  {
   "cell_type": "code",
   "execution_count": 10,
   "metadata": {
    "collapsed": false
   },
   "outputs": [
    {
     "data": {
      "image/png": "[encoded data removed]",
      "text/plain": [
       "<matplotlib.figure.Figure at 0x10c02e0f0>"
      ]
     },
     "metadata": {},
     "output_type": "display_data"
    }
   ],
   "source": [
    "import numpy as np\n",
    "import pandas as pd\n",
    "import matplotlib.pyplot as plt\n",
    "from sklearn import cross_validation\n",
    "from sklearn.linear_model import LogisticRegression\n",
    "from sklearn.learning_curve import learning_curve\n",
    "\n",
    "X = scale(df.drop(['radiant_win'], axis=1))\n",
    "y = df['radiant_win']\n",
    "\n",
    "cv = cross_validation.ShuffleSplit(X.shape[0], n_iter=10, test_size=0.2, random_state=42)\n",
    "estimator = LogisticRegression(penalty='l1', random_state=42, C=0.1)\n",
    "\n",
    "plt.figure()\n",
    "train_sizes=np.linspace(.1, 1.0, 10)\n",
    "plt.title(\"Learning Curves (Logistic Regression)\")\n",
    "plt.xlabel(\"Training examples\")\n",
    "plt.ylabel(\"Score\")\n",
    "train_sizes, train_scores, test_scores = learning_curve(estimator, X, y, cv=cv,\n",
    "                                                        n_jobs=1, train_sizes=np.linspace(.1, 1.0, 10))\n",
    "train_scores_mean = np.mean(train_scores, axis=1)\n",
    "train_scores_std = np.std(train_scores, axis=1)\n",
    "test_scores_mean = np.mean(test_scores, axis=1)\n",
    "test_scores_std = np.std(test_scores, axis=1)\n",
    "plt.grid()\n",
    "\n",
    "plt.fill_between(train_sizes, train_scores_mean - train_scores_std, train_scores_mean + train_scores_std, alpha=0.1, color=\"r\")\n",
    "plt.fill_between(train_sizes, test_scores_mean - test_scores_std, test_scores_mean + test_scores_std, alpha=0.1, color=\"g\")\n",
    "plt.plot(train_sizes, train_scores_mean, 'o-', color=\"r\", label=\"Training score\")\n",
    "plt.plot(train_sizes, test_scores_mean, 'o-', color=\"g\", label=\"Cross-validation score\")\n",
    "\n",
    "plt.legend(loc=\"best\")\n",
    "\n",
    "plt.show()"
   ]
  },
  {
   "cell_type": "markdown",
   "metadata": {},
   "source": [
    "I have a hypothesis: what if teams with `team_id` are much stronger, because they are persistent teams, train together, more proficient, etc."
   ]
  },
  {
   "cell_type": "code",
   "execution_count": 3,
   "metadata": {
    "collapsed": false
   },
   "outputs": [
    {
     "name": "stdout",
     "output_type": "stream",
     "text": [
      "{'penalty': 'l1', 'C': 0.1}\n",
      "0.594038442452\n"
     ]
    }
   ],
   "source": [
    "import numpy as np\n",
    "from sklearn.linear_model import LogisticRegression\n",
    "from sklearn.grid_search import GridSearchCV\n",
    "from sklearn.cross_validation import cross_val_score, KFold\n",
    "from sklearn.preprocessing import scale\n",
    "\n",
    "team_persistence = pd.DataFrame({\n",
    "        \"is_radiant_team_persistent\": matches['radiant_team_id'].notnull().fillna(0).astype(int),\n",
    "        \"is_dire_team_persistent\": matches['dire_team_id'].notnull().fillna(0).astype(int)\n",
    "    })\n",
    "\n",
    "team_persistence = team_persistence.set_index(df.index)\n",
    "\n",
    "df = pd.concat([df, team_persistence], axis=1)\n",
    "\n",
    "y = df['radiant_win']\n",
    "X = scale(df.drop(['radiant_win'], axis=1))\n",
    "\n",
    "cv = KFold(len(X), shuffle=True, n_folds=5, random_state=42)\n",
    "grid = {'C': [0.01, 0.1, 1, 10], 'penalty': ['l1', 'l2']}\n",
    "clf = LogisticRegression(random_state=42)\n",
    "model = GridSearchCV(clf, grid, cv=cv)\n",
    "model.fit(X, y)\n",
    "\n",
    "print(model.best_params_)\n",
    "print(model.best_score_)"
   ]
  },
  {
   "cell_type": "markdown",
   "metadata": {},
   "source": [
    "The accuracy drops by 0.0001, and maybe this is good: there is no difference, weather a team is persistent or not. But nevertheless we should take into account best teams: they will definitely win outsiders"
   ]
  }
 ],
 "metadata": {
  "kernelspec": {
   "display_name": "Python 3",
   "language": "python",
   "name": "python3"
  },
  "language_info": {
   "codemirror_mode": {
    "name": "ipython",
    "version": 3
   },
   "file_extension": ".py",
   "mimetype": "text/x-python",
   "name": "python",
   "nbconvert_exporter": "python",
   "pygments_lexer": "ipython3",
   "version": "3.5.1"
  }
 },
 "nbformat": 4,
 "nbformat_minor": 1
}
