{
 "cells": [
  {
   "cell_type": "code",
   "execution_count": 1,
   "metadata": {
    "collapsed": false
   },
   "outputs": [],
   "source": [
    "%matplotlib inline\n",
    "\n",
    "import itertools as it\n",
    "\n",
    "import numpy as np\n",
    "from sklearn.linear_model import LogisticRegression\n",
    "#from sklearn.learning_curve import learning_curve\n",
    "from sklearn.cross_validation import train_test_split\n",
    "from sklearn.metrics import accuracy_score\n",
    "from sklearn import preprocessing\n",
    "import matplotlib.pyplot as plt\n",
    "\n",
    "import sys\n",
    "sys.path.append('..')\n",
    "\n",
    "from helpers.helpers import load_matches, HERO_ID_MAP, HERO_COUNT"
   ]
  },
  {
   "cell_type": "code",
   "execution_count": 2,
   "metadata": {
    "collapsed": false
   },
   "outputs": [
    {
     "data": {
      "text/plain": [
       "30227"
      ]
     },
     "execution_count": 2,
     "metadata": {},
     "output_type": "execute_result"
    }
   ],
   "source": [
    "matches = load_matches()\n",
    "\n",
    "matches_train, matches_test = train_test_split(matches, test_size=.1)\n",
    "\n",
    "len(matches)"
   ]
  },
  {
   "cell_type": "code",
   "execution_count": 3,
   "metadata": {
    "collapsed": false
   },
   "outputs": [],
   "source": [
    "synergy_all_tbl = np.zeros((HERO_COUNT, HERO_COUNT), np.int32)\n",
    "synergy_win_tbl = np.zeros((HERO_COUNT, HERO_COUNT), np.int32)\n",
    "counter_all_tbl = np.zeros((HERO_COUNT, HERO_COUNT), np.int32)\n",
    "counter_win_tbl = np.zeros((HERO_COUNT, HERO_COUNT), np.int32)\n",
    "\n",
    "for idx, match in enumerate(matches_train):\n",
    "    heros = [HERO_ID_MAP[pl.hero_id] for pl in match.players]\n",
    "\n",
    "    for i, j in it.combinations(range(0, 5), 2):\n",
    "        synergy_all_tbl[heros[i], heros[j]] += 1\n",
    "        if match.radiant_win:\n",
    "            synergy_win_tbl[heros[i], heros[j]] += 1\n",
    "\n",
    "    for i, j in it.combinations(range(5, 10), 2):\n",
    "        synergy_all_tbl[heros[i], heros[j]] += 1\n",
    "        if not match.radiant_win:\n",
    "            synergy_win_tbl[heros[i], heros[j]] += 1\n",
    "\n",
    "    for i, j in it.combinations_with_replacement(range(0, 5), 2):\n",
    "        counter_all_tbl[heros[i], heros[j+5]] += 1\n",
    "        if match.radiant_win:\n",
    "            counter_win_tbl[heros[i], heros[j+5]] += 1\n",
    "\n",
    "with np.errstate(divide='ignore', invalid='ignore'):\n",
    "    synergy_tbl = synergy_win_tbl / synergy_all_tbl\n",
    "    synergy_tbl[~np.isfinite(synergy_tbl)] = .5\n",
    "    counter_tbl = counter_win_tbl / counter_all_tbl\n",
    "    counter_tbl[~np.isfinite(counter_tbl)] = .5"
   ]
  },
  {
   "cell_type": "code",
   "execution_count": 4,
   "metadata": {
    "collapsed": true
   },
   "outputs": [],
   "source": [
    "def match_to_sample(match, sample):\n",
    "    heros = [HERO_ID_MAP[pl.hero_id] for pl in match.players]\n",
    "\n",
    "    for hero in heros[:5]:\n",
    "        sample[hero] = 1\n",
    "\n",
    "    for hero in heros[5:]:\n",
    "        sample[HERO_COUNT + hero] = 1\n",
    "    \n",
    "    radiant_synergy = 0\n",
    "    for i, j in it.combinations(range(0, 5), 2):\n",
    "        radiant_synergy += synergy_tbl[heros[i], heros[j]]\n",
    "\n",
    "    dire_synergy = 0\n",
    "    for i, j in it.combinations(range(5, 10), 2):\n",
    "        dire_synergy += synergy_tbl[heros[i], heros[j]]\n",
    "\n",
    "    sample[HERO_COUNT * 2] = radiant_synergy - dire_synergy\n",
    "\n",
    "    radiant_counter = 0\n",
    "    for i, j in it.combinations_with_replacement(range(0, 5), 2):\n",
    "        radiant_counter += counter_tbl[heros[i], heros[j+5]]\n",
    "\n",
    "    sample[HERO_COUNT * 2 + 1] = radiant_counter\n",
    "\n",
    "def transform_matches(matches):\n",
    "    X = np.zeros((len(matches), HERO_COUNT * 2 + 2))\n",
    "    y = np.empty(len(matches), np.bool)\n",
    "\n",
    "    for idx, match, sample in zip(it.count(), matches, X):\n",
    "        match_to_sample(match, sample)\n",
    "        y[idx] = match.radiant_win\n",
    "    \n",
    "    return preprocessing.scale(X), y"
   ]
  },
  {
   "cell_type": "code",
   "execution_count": 5,
   "metadata": {
    "collapsed": false
   },
   "outputs": [],
   "source": [
    "X_train, y_train = transform_matches(matches_train)\n",
    "X_test, y_test = transform_matches(matches_test)"
   ]
  },
  {
   "cell_type": "code",
   "execution_count": 6,
   "metadata": {
    "collapsed": false,
    "scrolled": true
   },
   "outputs": [
    {
     "data": {
      "text/plain": [
       "LogisticRegression(C=1.0, class_weight=None, dual=False, fit_intercept=True,\n",
       "          intercept_scaling=1, max_iter=100, multi_class='ovr', n_jobs=1,\n",
       "          penalty='l2', random_state=None, solver='liblinear', tol=0.0001,\n",
       "          verbose=0, warm_start=False)"
      ]
     },
     "execution_count": 6,
     "metadata": {},
     "output_type": "execute_result"
    }
   ],
   "source": [
    "logistic = LogisticRegression()\n",
    "logistic.fit(X_train, y_train)"
   ]
  },
  {
   "cell_type": "code",
   "execution_count": 7,
   "metadata": {
    "collapsed": false
   },
   "outputs": [
    {
     "data": {
      "text/plain": [
       "0.59080383724776708"
      ]
     },
     "execution_count": 7,
     "metadata": {},
     "output_type": "execute_result"
    }
   ],
   "source": [
    "accuracy_score(y_test, logistic.predict(X_test))"
   ]
  },
  {
   "cell_type": "code",
   "execution_count": 8,
   "metadata": {
    "collapsed": false
   },
   "outputs": [],
   "source": [
    "def plot_learning_curve(estimator, X, y):\n",
    "    plt.figure()\n",
    "    plt.xlabel(\"Training examples\")\n",
    "    plt.ylabel(\"Score\")\n",
    "    \n",
    "    train_sizes, train_scores, test_scores = learning_curve(estimator, X, y)\n",
    "    \n",
    "    train_scores_mean = np.mean(train_scores, 1)\n",
    "    train_scores_std = np.std(train_scores, 1)\n",
    "    test_scores_mean = np.mean(test_scores, 1)\n",
    "    test_scores_std = np.std(test_scores, 1)\n",
    "    \n",
    "    plt.grid()\n",
    "    plt.fill_between(train_sizes, train_scores_mean - train_scores_std,\n",
    "                     train_scores_mean + train_scores_std, alpha=0.1,\n",
    "                     color=\"r\")\n",
    "    plt.fill_between(train_sizes, test_scores_mean - test_scores_std,\n",
    "                     test_scores_mean + test_scores_std, alpha=0.1, color=\"g\")\n",
    "    plt.plot(train_sizes, train_scores_mean, 'o-', color=\"r\",\n",
    "             label=\"Training score\")\n",
    "    plt.plot(train_sizes, test_scores_mean, 'o-', color=\"g\",\n",
    "             label=\"Cross-validation score\")\n",
    "    plt.legend(loc=\"best\")\n",
    "    \n",
    "    return plt\n",
    "\n",
    "#plot_learning_curve(LogisticRegression(), X_train, y_train)\n",
    "\n",
    "#plt.show()"
   ]
  }
 ],
 "metadata": {
  "kernelspec": {
   "display_name": "Python 3",
   "language": "python",
   "name": "python3"
  },
  "language_info": {
   "codemirror_mode": {
    "name": "ipython",
    "version": 3
   },
   "file_extension": ".py",
   "mimetype": "text/x-python",
   "name": "python",
   "nbconvert_exporter": "python",
   "pygments_lexer": "ipython3",
   "version": "3.5.1"
  }
 },
 "nbformat": 4,
 "nbformat_minor": 0
}
